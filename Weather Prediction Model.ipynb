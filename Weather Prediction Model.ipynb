{
 "cells": [
  {
   "cell_type": "markdown",
   "id": "08a056ce-7edc-4516-a3bf-67ad0fb63b9a",
   "metadata": {},
   "source": [
    "<h1>1st Linear Regression using weather.csv dataset</h1>"
   ]
  },
  {
   "cell_type": "markdown",
   "id": "0d154eb6-f83b-4126-b31b-3c0d492da1d4",
   "metadata": {},
   "source": [
    "<h1>Importing libraries</h1>"
   ]
  },
  {
   "cell_type": "code",
   "execution_count": 6,
   "id": "1a30c1bc-51e9-4a90-85bd-7da4bb8d5a2d",
   "metadata": {},
   "outputs": [],
   "source": [
    "import numpy as np\n",
    "import pandas as pd\n",
    "import pandas as pd\n",
    "import numpy as np\n",
    "import matplotlib.pyplot as plt\n",
    "import seaborn as seabornInstance\n",
    "from sklearn.model_selection import train_test_split\n",
    "from sklearn.linear_model import LinearRegression\n",
    "from sklearn import metrics\n",
    "import warnings;warnings.simplefilter('ignore')\n",
    "%matplotlib inline"
   ]
  },
  {
   "cell_type": "markdown",
   "id": "5754e49a-3d8a-48f0-953f-7b2591a071ec",
   "metadata": {},
   "source": [
    "Loading data"
   ]
  },
  {
   "cell_type": "code",
   "execution_count": 7,
   "id": "867d2376-1eb0-4615-ba78-290f0cbc360a",
   "metadata": {},
   "outputs": [],
   "source": [
    "dt = pd.read_csv(\"C://Users//kktc//Desktop//school work//YEAR 2//PART 2.2//Machine learning//data sets//weather.csv\")"
   ]
  },
  {
   "cell_type": "code",
   "execution_count": 8,
   "id": "06525f21-75e6-484e-b56a-aaa707feff55",
   "metadata": {},
   "outputs": [
    {
     "data": {
      "text/plain": [
       "(366, 22)"
      ]
     },
     "execution_count": 8,
     "metadata": {},
     "output_type": "execute_result"
    }
   ],
   "source": [
    "dt.shape"
   ]
  },
  {
   "cell_type": "code",
   "execution_count": 9,
   "id": "aa5d0ba9-a2f8-4cac-853b-1dfadb0b8065",
   "metadata": {},
   "outputs": [
    {
     "data": {
      "text/html": [
       "<div>\n",
       "<style scoped>\n",
       "    .dataframe tbody tr th:only-of-type {\n",
       "        vertical-align: middle;\n",
       "    }\n",
       "\n",
       "    .dataframe tbody tr th {\n",
       "        vertical-align: top;\n",
       "    }\n",
       "\n",
       "    .dataframe thead th {\n",
       "        text-align: right;\n",
       "    }\n",
       "</style>\n",
       "<table border=\"1\" class=\"dataframe\">\n",
       "  <thead>\n",
       "    <tr style=\"text-align: right;\">\n",
       "      <th></th>\n",
       "      <th>MinTemp</th>\n",
       "      <th>MaxTemp</th>\n",
       "      <th>Rainfall</th>\n",
       "      <th>Evaporation</th>\n",
       "      <th>Sunshine</th>\n",
       "      <th>WindGustDir</th>\n",
       "      <th>WindGustSpeed</th>\n",
       "      <th>WindDir9am</th>\n",
       "      <th>WindDir3pm</th>\n",
       "      <th>WindSpeed9am</th>\n",
       "      <th>...</th>\n",
       "      <th>Humidity3pm</th>\n",
       "      <th>Pressure9am</th>\n",
       "      <th>Pressure3pm</th>\n",
       "      <th>Cloud9am</th>\n",
       "      <th>Cloud3pm</th>\n",
       "      <th>Temp9am</th>\n",
       "      <th>Temp3pm</th>\n",
       "      <th>RainToday</th>\n",
       "      <th>RISK_MM</th>\n",
       "      <th>RainTomorrow</th>\n",
       "    </tr>\n",
       "  </thead>\n",
       "  <tbody>\n",
       "    <tr>\n",
       "      <th>0</th>\n",
       "      <td>8.0</td>\n",
       "      <td>24.3</td>\n",
       "      <td>0.0</td>\n",
       "      <td>3.4</td>\n",
       "      <td>6.3</td>\n",
       "      <td>NW</td>\n",
       "      <td>30.0</td>\n",
       "      <td>SW</td>\n",
       "      <td>NW</td>\n",
       "      <td>6.0</td>\n",
       "      <td>...</td>\n",
       "      <td>29</td>\n",
       "      <td>1019.7</td>\n",
       "      <td>1015.0</td>\n",
       "      <td>7</td>\n",
       "      <td>7</td>\n",
       "      <td>14.4</td>\n",
       "      <td>23.6</td>\n",
       "      <td>No</td>\n",
       "      <td>3.6</td>\n",
       "      <td>Yes</td>\n",
       "    </tr>\n",
       "    <tr>\n",
       "      <th>1</th>\n",
       "      <td>14.0</td>\n",
       "      <td>26.9</td>\n",
       "      <td>3.6</td>\n",
       "      <td>4.4</td>\n",
       "      <td>9.7</td>\n",
       "      <td>ENE</td>\n",
       "      <td>39.0</td>\n",
       "      <td>E</td>\n",
       "      <td>W</td>\n",
       "      <td>4.0</td>\n",
       "      <td>...</td>\n",
       "      <td>36</td>\n",
       "      <td>1012.4</td>\n",
       "      <td>1008.4</td>\n",
       "      <td>5</td>\n",
       "      <td>3</td>\n",
       "      <td>17.5</td>\n",
       "      <td>25.7</td>\n",
       "      <td>Yes</td>\n",
       "      <td>3.6</td>\n",
       "      <td>Yes</td>\n",
       "    </tr>\n",
       "    <tr>\n",
       "      <th>2</th>\n",
       "      <td>13.7</td>\n",
       "      <td>23.4</td>\n",
       "      <td>3.6</td>\n",
       "      <td>5.8</td>\n",
       "      <td>3.3</td>\n",
       "      <td>NW</td>\n",
       "      <td>85.0</td>\n",
       "      <td>N</td>\n",
       "      <td>NNE</td>\n",
       "      <td>6.0</td>\n",
       "      <td>...</td>\n",
       "      <td>69</td>\n",
       "      <td>1009.5</td>\n",
       "      <td>1007.2</td>\n",
       "      <td>8</td>\n",
       "      <td>7</td>\n",
       "      <td>15.4</td>\n",
       "      <td>20.2</td>\n",
       "      <td>Yes</td>\n",
       "      <td>39.8</td>\n",
       "      <td>Yes</td>\n",
       "    </tr>\n",
       "    <tr>\n",
       "      <th>3</th>\n",
       "      <td>13.3</td>\n",
       "      <td>15.5</td>\n",
       "      <td>39.8</td>\n",
       "      <td>7.2</td>\n",
       "      <td>9.1</td>\n",
       "      <td>NW</td>\n",
       "      <td>54.0</td>\n",
       "      <td>WNW</td>\n",
       "      <td>W</td>\n",
       "      <td>30.0</td>\n",
       "      <td>...</td>\n",
       "      <td>56</td>\n",
       "      <td>1005.5</td>\n",
       "      <td>1007.0</td>\n",
       "      <td>2</td>\n",
       "      <td>7</td>\n",
       "      <td>13.5</td>\n",
       "      <td>14.1</td>\n",
       "      <td>Yes</td>\n",
       "      <td>2.8</td>\n",
       "      <td>Yes</td>\n",
       "    </tr>\n",
       "    <tr>\n",
       "      <th>4</th>\n",
       "      <td>7.6</td>\n",
       "      <td>16.1</td>\n",
       "      <td>2.8</td>\n",
       "      <td>5.6</td>\n",
       "      <td>10.6</td>\n",
       "      <td>SSE</td>\n",
       "      <td>50.0</td>\n",
       "      <td>SSE</td>\n",
       "      <td>ESE</td>\n",
       "      <td>20.0</td>\n",
       "      <td>...</td>\n",
       "      <td>49</td>\n",
       "      <td>1018.3</td>\n",
       "      <td>1018.5</td>\n",
       "      <td>7</td>\n",
       "      <td>7</td>\n",
       "      <td>11.1</td>\n",
       "      <td>15.4</td>\n",
       "      <td>Yes</td>\n",
       "      <td>0.0</td>\n",
       "      <td>No</td>\n",
       "    </tr>\n",
       "  </tbody>\n",
       "</table>\n",
       "<p>5 rows × 22 columns</p>\n",
       "</div>"
      ],
      "text/plain": [
       "   MinTemp  MaxTemp  Rainfall  Evaporation  Sunshine WindGustDir  \\\n",
       "0      8.0     24.3       0.0          3.4       6.3          NW   \n",
       "1     14.0     26.9       3.6          4.4       9.7         ENE   \n",
       "2     13.7     23.4       3.6          5.8       3.3          NW   \n",
       "3     13.3     15.5      39.8          7.2       9.1          NW   \n",
       "4      7.6     16.1       2.8          5.6      10.6         SSE   \n",
       "\n",
       "   WindGustSpeed WindDir9am WindDir3pm  WindSpeed9am  ...  Humidity3pm  \\\n",
       "0           30.0         SW         NW           6.0  ...           29   \n",
       "1           39.0          E          W           4.0  ...           36   \n",
       "2           85.0          N        NNE           6.0  ...           69   \n",
       "3           54.0        WNW          W          30.0  ...           56   \n",
       "4           50.0        SSE        ESE          20.0  ...           49   \n",
       "\n",
       "   Pressure9am  Pressure3pm  Cloud9am  Cloud3pm  Temp9am  Temp3pm  RainToday  \\\n",
       "0       1019.7       1015.0         7         7     14.4     23.6         No   \n",
       "1       1012.4       1008.4         5         3     17.5     25.7        Yes   \n",
       "2       1009.5       1007.2         8         7     15.4     20.2        Yes   \n",
       "3       1005.5       1007.0         2         7     13.5     14.1        Yes   \n",
       "4       1018.3       1018.5         7         7     11.1     15.4        Yes   \n",
       "\n",
       "   RISK_MM RainTomorrow  \n",
       "0      3.6          Yes  \n",
       "1      3.6          Yes  \n",
       "2     39.8          Yes  \n",
       "3      2.8          Yes  \n",
       "4      0.0           No  \n",
       "\n",
       "[5 rows x 22 columns]"
      ]
     },
     "execution_count": 9,
     "metadata": {},
     "output_type": "execute_result"
    }
   ],
   "source": [
    "dt.head()"
   ]
  },
  {
   "cell_type": "code",
   "execution_count": 12,
   "id": "aa97746c-1e8b-4e9a-babe-cd1bcb3885e8",
   "metadata": {},
   "outputs": [
    {
     "name": "stdout",
     "output_type": "stream",
     "text": [
      "<class 'pandas.core.frame.DataFrame'>\n",
      "RangeIndex: 366 entries, 0 to 365\n",
      "Data columns (total 22 columns):\n",
      " #   Column         Non-Null Count  Dtype  \n",
      "---  ------         --------------  -----  \n",
      " 0   MinTemp        366 non-null    float64\n",
      " 1   MaxTemp        366 non-null    float64\n",
      " 2   Rainfall       366 non-null    float64\n",
      " 3   Evaporation    366 non-null    float64\n",
      " 4   Sunshine       363 non-null    float64\n",
      " 5   WindGustDir    363 non-null    object \n",
      " 6   WindGustSpeed  364 non-null    float64\n",
      " 7   WindDir9am     335 non-null    object \n",
      " 8   WindDir3pm     365 non-null    object \n",
      " 9   WindSpeed9am   359 non-null    float64\n",
      " 10  WindSpeed3pm   366 non-null    int64  \n",
      " 11  Humidity9am    366 non-null    int64  \n",
      " 12  Humidity3pm    366 non-null    int64  \n",
      " 13  Pressure9am    366 non-null    float64\n",
      " 14  Pressure3pm    366 non-null    float64\n",
      " 15  Cloud9am       366 non-null    int64  \n",
      " 16  Cloud3pm       366 non-null    int64  \n",
      " 17  Temp9am        366 non-null    float64\n",
      " 18  Temp3pm        366 non-null    float64\n",
      " 19  RainToday      366 non-null    object \n",
      " 20  RISK_MM        366 non-null    float64\n",
      " 21  RainTomorrow   366 non-null    object \n",
      "dtypes: float64(12), int64(5), object(5)\n",
      "memory usage: 63.0+ KB\n"
     ]
    }
   ],
   "source": [
    "dt.info()"
   ]
  },
  {
   "cell_type": "code",
   "execution_count": 10,
   "id": "065c18d5-acbf-46ff-a730-f8c924c601be",
   "metadata": {},
   "outputs": [
    {
     "data": {
      "text/html": [
       "<div>\n",
       "<style scoped>\n",
       "    .dataframe tbody tr th:only-of-type {\n",
       "        vertical-align: middle;\n",
       "    }\n",
       "\n",
       "    .dataframe tbody tr th {\n",
       "        vertical-align: top;\n",
       "    }\n",
       "\n",
       "    .dataframe thead th {\n",
       "        text-align: right;\n",
       "    }\n",
       "</style>\n",
       "<table border=\"1\" class=\"dataframe\">\n",
       "  <thead>\n",
       "    <tr style=\"text-align: right;\">\n",
       "      <th></th>\n",
       "      <th>MinTemp</th>\n",
       "      <th>MaxTemp</th>\n",
       "      <th>Rainfall</th>\n",
       "      <th>Evaporation</th>\n",
       "      <th>Sunshine</th>\n",
       "      <th>WindGustSpeed</th>\n",
       "      <th>WindSpeed9am</th>\n",
       "      <th>WindSpeed3pm</th>\n",
       "      <th>Humidity9am</th>\n",
       "      <th>Humidity3pm</th>\n",
       "      <th>Pressure9am</th>\n",
       "      <th>Pressure3pm</th>\n",
       "      <th>Cloud9am</th>\n",
       "      <th>Cloud3pm</th>\n",
       "      <th>Temp9am</th>\n",
       "      <th>Temp3pm</th>\n",
       "      <th>RISK_MM</th>\n",
       "    </tr>\n",
       "  </thead>\n",
       "  <tbody>\n",
       "    <tr>\n",
       "      <th>count</th>\n",
       "      <td>366.000000</td>\n",
       "      <td>366.000000</td>\n",
       "      <td>366.000000</td>\n",
       "      <td>366.000000</td>\n",
       "      <td>363.000000</td>\n",
       "      <td>364.000000</td>\n",
       "      <td>359.000000</td>\n",
       "      <td>366.000000</td>\n",
       "      <td>366.000000</td>\n",
       "      <td>366.000000</td>\n",
       "      <td>366.000000</td>\n",
       "      <td>366.000000</td>\n",
       "      <td>366.000000</td>\n",
       "      <td>366.000000</td>\n",
       "      <td>366.000000</td>\n",
       "      <td>366.000000</td>\n",
       "      <td>366.000000</td>\n",
       "    </tr>\n",
       "    <tr>\n",
       "      <th>mean</th>\n",
       "      <td>7.265574</td>\n",
       "      <td>20.550273</td>\n",
       "      <td>1.428415</td>\n",
       "      <td>4.521858</td>\n",
       "      <td>7.909366</td>\n",
       "      <td>39.840659</td>\n",
       "      <td>9.651811</td>\n",
       "      <td>17.986339</td>\n",
       "      <td>72.035519</td>\n",
       "      <td>44.519126</td>\n",
       "      <td>1019.709016</td>\n",
       "      <td>1016.810383</td>\n",
       "      <td>3.890710</td>\n",
       "      <td>4.024590</td>\n",
       "      <td>12.358470</td>\n",
       "      <td>19.230874</td>\n",
       "      <td>1.428415</td>\n",
       "    </tr>\n",
       "    <tr>\n",
       "      <th>std</th>\n",
       "      <td>6.025800</td>\n",
       "      <td>6.690516</td>\n",
       "      <td>4.225800</td>\n",
       "      <td>2.669383</td>\n",
       "      <td>3.481517</td>\n",
       "      <td>13.059807</td>\n",
       "      <td>7.951929</td>\n",
       "      <td>8.856997</td>\n",
       "      <td>13.137058</td>\n",
       "      <td>16.850947</td>\n",
       "      <td>6.686212</td>\n",
       "      <td>6.469422</td>\n",
       "      <td>2.956131</td>\n",
       "      <td>2.666268</td>\n",
       "      <td>5.630832</td>\n",
       "      <td>6.640346</td>\n",
       "      <td>4.225800</td>\n",
       "    </tr>\n",
       "    <tr>\n",
       "      <th>min</th>\n",
       "      <td>-5.300000</td>\n",
       "      <td>7.600000</td>\n",
       "      <td>0.000000</td>\n",
       "      <td>0.200000</td>\n",
       "      <td>0.000000</td>\n",
       "      <td>13.000000</td>\n",
       "      <td>0.000000</td>\n",
       "      <td>0.000000</td>\n",
       "      <td>36.000000</td>\n",
       "      <td>13.000000</td>\n",
       "      <td>996.500000</td>\n",
       "      <td>996.800000</td>\n",
       "      <td>0.000000</td>\n",
       "      <td>0.000000</td>\n",
       "      <td>0.100000</td>\n",
       "      <td>5.100000</td>\n",
       "      <td>0.000000</td>\n",
       "    </tr>\n",
       "    <tr>\n",
       "      <th>25%</th>\n",
       "      <td>2.300000</td>\n",
       "      <td>15.025000</td>\n",
       "      <td>0.000000</td>\n",
       "      <td>2.200000</td>\n",
       "      <td>5.950000</td>\n",
       "      <td>31.000000</td>\n",
       "      <td>6.000000</td>\n",
       "      <td>11.000000</td>\n",
       "      <td>64.000000</td>\n",
       "      <td>32.250000</td>\n",
       "      <td>1015.350000</td>\n",
       "      <td>1012.800000</td>\n",
       "      <td>1.000000</td>\n",
       "      <td>1.000000</td>\n",
       "      <td>7.625000</td>\n",
       "      <td>14.150000</td>\n",
       "      <td>0.000000</td>\n",
       "    </tr>\n",
       "    <tr>\n",
       "      <th>50%</th>\n",
       "      <td>7.450000</td>\n",
       "      <td>19.650000</td>\n",
       "      <td>0.000000</td>\n",
       "      <td>4.200000</td>\n",
       "      <td>8.600000</td>\n",
       "      <td>39.000000</td>\n",
       "      <td>7.000000</td>\n",
       "      <td>17.000000</td>\n",
       "      <td>72.000000</td>\n",
       "      <td>43.000000</td>\n",
       "      <td>1020.150000</td>\n",
       "      <td>1017.400000</td>\n",
       "      <td>3.500000</td>\n",
       "      <td>4.000000</td>\n",
       "      <td>12.550000</td>\n",
       "      <td>18.550000</td>\n",
       "      <td>0.000000</td>\n",
       "    </tr>\n",
       "    <tr>\n",
       "      <th>75%</th>\n",
       "      <td>12.500000</td>\n",
       "      <td>25.500000</td>\n",
       "      <td>0.200000</td>\n",
       "      <td>6.400000</td>\n",
       "      <td>10.500000</td>\n",
       "      <td>46.000000</td>\n",
       "      <td>13.000000</td>\n",
       "      <td>24.000000</td>\n",
       "      <td>81.000000</td>\n",
       "      <td>55.000000</td>\n",
       "      <td>1024.475000</td>\n",
       "      <td>1021.475000</td>\n",
       "      <td>7.000000</td>\n",
       "      <td>7.000000</td>\n",
       "      <td>17.000000</td>\n",
       "      <td>24.000000</td>\n",
       "      <td>0.200000</td>\n",
       "    </tr>\n",
       "    <tr>\n",
       "      <th>max</th>\n",
       "      <td>20.900000</td>\n",
       "      <td>35.800000</td>\n",
       "      <td>39.800000</td>\n",
       "      <td>13.800000</td>\n",
       "      <td>13.600000</td>\n",
       "      <td>98.000000</td>\n",
       "      <td>41.000000</td>\n",
       "      <td>52.000000</td>\n",
       "      <td>99.000000</td>\n",
       "      <td>96.000000</td>\n",
       "      <td>1035.700000</td>\n",
       "      <td>1033.200000</td>\n",
       "      <td>8.000000</td>\n",
       "      <td>8.000000</td>\n",
       "      <td>24.700000</td>\n",
       "      <td>34.500000</td>\n",
       "      <td>39.800000</td>\n",
       "    </tr>\n",
       "  </tbody>\n",
       "</table>\n",
       "</div>"
      ],
      "text/plain": [
       "          MinTemp     MaxTemp    Rainfall  Evaporation    Sunshine  \\\n",
       "count  366.000000  366.000000  366.000000   366.000000  363.000000   \n",
       "mean     7.265574   20.550273    1.428415     4.521858    7.909366   \n",
       "std      6.025800    6.690516    4.225800     2.669383    3.481517   \n",
       "min     -5.300000    7.600000    0.000000     0.200000    0.000000   \n",
       "25%      2.300000   15.025000    0.000000     2.200000    5.950000   \n",
       "50%      7.450000   19.650000    0.000000     4.200000    8.600000   \n",
       "75%     12.500000   25.500000    0.200000     6.400000   10.500000   \n",
       "max     20.900000   35.800000   39.800000    13.800000   13.600000   \n",
       "\n",
       "       WindGustSpeed  WindSpeed9am  WindSpeed3pm  Humidity9am  Humidity3pm  \\\n",
       "count     364.000000    359.000000    366.000000   366.000000   366.000000   \n",
       "mean       39.840659      9.651811     17.986339    72.035519    44.519126   \n",
       "std        13.059807      7.951929      8.856997    13.137058    16.850947   \n",
       "min        13.000000      0.000000      0.000000    36.000000    13.000000   \n",
       "25%        31.000000      6.000000     11.000000    64.000000    32.250000   \n",
       "50%        39.000000      7.000000     17.000000    72.000000    43.000000   \n",
       "75%        46.000000     13.000000     24.000000    81.000000    55.000000   \n",
       "max        98.000000     41.000000     52.000000    99.000000    96.000000   \n",
       "\n",
       "       Pressure9am  Pressure3pm    Cloud9am    Cloud3pm     Temp9am  \\\n",
       "count   366.000000   366.000000  366.000000  366.000000  366.000000   \n",
       "mean   1019.709016  1016.810383    3.890710    4.024590   12.358470   \n",
       "std       6.686212     6.469422    2.956131    2.666268    5.630832   \n",
       "min     996.500000   996.800000    0.000000    0.000000    0.100000   \n",
       "25%    1015.350000  1012.800000    1.000000    1.000000    7.625000   \n",
       "50%    1020.150000  1017.400000    3.500000    4.000000   12.550000   \n",
       "75%    1024.475000  1021.475000    7.000000    7.000000   17.000000   \n",
       "max    1035.700000  1033.200000    8.000000    8.000000   24.700000   \n",
       "\n",
       "          Temp3pm     RISK_MM  \n",
       "count  366.000000  366.000000  \n",
       "mean    19.230874    1.428415  \n",
       "std      6.640346    4.225800  \n",
       "min      5.100000    0.000000  \n",
       "25%     14.150000    0.000000  \n",
       "50%     18.550000    0.000000  \n",
       "75%     24.000000    0.200000  \n",
       "max     34.500000   39.800000  "
      ]
     },
     "execution_count": 10,
     "metadata": {},
     "output_type": "execute_result"
    }
   ],
   "source": [
    "dt.describe()"
   ]
  },
  {
   "cell_type": "code",
   "execution_count": 11,
   "id": "429c1e30-976c-4aee-ad66-84ba0294d9f3",
   "metadata": {},
   "outputs": [
    {
     "data": {
      "image/png": "[encoded data removed]",
      "text/plain": [
       "<Figure size 640x480 with 1 Axes>"
      ]
     },
     "metadata": {},
     "output_type": "display_data"
    }
   ],
   "source": [
    "dt.plot(x=\"MaxTemp\",y=\"MinTemp\",style='o')\n",
    "plt.title('MinTemp vs MaxTemp')\n",
    "plt.xlabel('MinTemp')\n",
    "plt.ylabel('MaxTemp')\n",
    "plt.show()"
   ]
  },
  {
   "cell_type": "markdown",
   "id": "b4ce2330-87dd-4b81-8c89-e5a26bcb98a9",
   "metadata": {},
   "source": [
    "MaxTemp distrubtion"
   ]
  },
  {
   "cell_type": "code",
   "execution_count": 13,
   "id": "738bc9ec-9c56-4ad3-a847-efd66ed1bf17",
   "metadata": {},
   "outputs": [
    {
     "data": {
      "image/png": "[encoded data removed]",
      "text/plain": [
       "<Figure size 2000x1000 with 1 Axes>"
      ]
     },
     "metadata": {},
     "output_type": "display_data"
    }
   ],
   "source": [
    "plt.figure(figsize=(20,10))\n",
    "plt.tight_layout()\n",
    "seabornInstance.distplot(dt['MaxTemp'])\n",
    "plt.show()"
   ]
  },
  {
   "cell_type": "markdown",
   "id": "24efdb30-2b0f-4d53-8676-1c7867f20fa4",
   "metadata": {},
   "source": [
    "Getting x and y"
   ]
  },
  {
   "cell_type": "code",
   "execution_count": 14,
   "id": "2191777e-50d6-4fd8-80f0-417dc8d7e42b",
   "metadata": {},
   "outputs": [
    {
     "data": {
      "text/plain": [
       "Index(['MinTemp', 'MaxTemp', 'Rainfall', 'Evaporation', 'Sunshine',\n",
       "       'WindGustDir', 'WindGustSpeed', 'WindDir9am', 'WindDir3pm',\n",
       "       'WindSpeed9am', 'WindSpeed3pm', 'Humidity9am', 'Humidity3pm',\n",
       "       'Pressure9am', 'Pressure3pm', 'Cloud9am', 'Cloud3pm', 'Temp9am',\n",
       "       'Temp3pm', 'RainToday', 'RISK_MM', 'RainTomorrow'],\n",
       "      dtype='object')"
      ]
     },
     "execution_count": 14,
     "metadata": {},
     "output_type": "execute_result"
    }
   ],
   "source": [
    "dt.columns"
   ]
  },
  {
   "cell_type": "code",
   "execution_count": 16,
   "id": "9d0a3437-6e33-4ffd-a43f-b50b123273fd",
   "metadata": {},
   "outputs": [],
   "source": [
    "X = dt['MinTemp'].values.reshape(-1,1)\n",
    "y = dt['MaxTemp'].values.reshape(-1,1)"
   ]
  },
  {
   "cell_type": "markdown",
   "id": "1b409993-389f-4681-8edf-759f840b778f",
   "metadata": {},
   "source": [
    "Splitting the data"
   ]
  },
  {
   "cell_type": "code",
   "execution_count": 17,
   "id": "b889b312-1da9-40c8-8959-b7dfa7359334",
   "metadata": {},
   "outputs": [],
   "source": [
    "X_train,X_test,y_train,y_test = train_test_split(X,y,test_size=0.2,random_state=0)"
   ]
  },
  {
   "cell_type": "markdown",
   "id": "cbcc6ab1-1e89-41ac-b8b7-bcf37e4542fd",
   "metadata": {},
   "source": [
    "Training Model"
   ]
  },
  {
   "cell_type": "code",
   "execution_count": 18,
   "id": "cef96568-d8f2-4352-b0ad-aeae6085ce94",
   "metadata": {},
   "outputs": [],
   "source": [
    "linearReg = LinearRegression()"
   ]
  },
  {
   "cell_type": "code",
   "execution_count": 19,
   "id": "dc86cc82-75ba-4cbd-82f0-5b689f16c521",
   "metadata": {},
   "outputs": [],
   "source": [
    "linearReg = linearReg.fit(X_train,y_train)"
   ]
  },
  {
   "cell_type": "markdown",
   "id": "311d4043-69be-4ce8-8fdf-0d02aedf839c",
   "metadata": {},
   "source": [
    "Get intercept"
   ]
  },
  {
   "cell_type": "code",
   "execution_count": 20,
   "id": "f8a6adc5-3996-441b-8564-ca91dd1bba5a",
   "metadata": {},
   "outputs": [
    {
     "name": "stdout",
     "output_type": "stream",
     "text": [
      "Intercept:  [14.56202411]\n"
     ]
    }
   ],
   "source": [
    "print('Intercept: ',linearReg.intercept_)"
   ]
  },
  {
   "cell_type": "markdown",
   "id": "ecaec424-9576-4289-9f3f-cb22073077f3",
   "metadata": {},
   "source": [
    "Making Predictions"
   ]
  },
  {
   "cell_type": "code",
   "execution_count": 36,
   "id": "e03d59f9-f9b9-4ed8-9749-94385128a0fe",
   "metadata": {},
   "outputs": [
    {
     "name": "stdout",
     "output_type": "stream",
     "text": [
      "Intercept:  [14.56202411]\n"
     ]
    }
   ],
   "source": [
    "y_pred = linearReg.predict(X_test)"
   ]
  },
  {
   "cell_type": "markdown",
   "id": "b37ef9ac-e34f-46c6-a691-0c05a23526c2",
   "metadata": {},
   "source": [
    "Comparing Values"
   ]
  },
  {
   "cell_type": "code",
   "execution_count": 38,
   "id": "a79883e8-1971-48ae-90e9-ccc8cde9b0c8",
   "metadata": {},
   "outputs": [
    {
     "data": {
      "text/html": [
       "<div>\n",
       "<style scoped>\n",
       "    .dataframe tbody tr th:only-of-type {\n",
       "        vertical-align: middle;\n",
       "    }\n",
       "\n",
       "    .dataframe tbody tr th {\n",
       "        vertical-align: top;\n",
       "    }\n",
       "\n",
       "    .dataframe thead th {\n",
       "        text-align: right;\n",
       "    }\n",
       "</style>\n",
       "<table border=\"1\" class=\"dataframe\">\n",
       "  <thead>\n",
       "    <tr style=\"text-align: right;\">\n",
       "      <th></th>\n",
       "      <th>Actual</th>\n",
       "      <th>Predicted</th>\n",
       "    </tr>\n",
       "  </thead>\n",
       "  <tbody>\n",
       "    <tr>\n",
       "      <th>0</th>\n",
       "      <td>25.2</td>\n",
       "      <td>23.413030</td>\n",
       "    </tr>\n",
       "    <tr>\n",
       "      <th>1</th>\n",
       "      <td>11.5</td>\n",
       "      <td>13.086857</td>\n",
       "    </tr>\n",
       "    <tr>\n",
       "      <th>2</th>\n",
       "      <td>21.1</td>\n",
       "      <td>27.264856</td>\n",
       "    </tr>\n",
       "    <tr>\n",
       "      <th>3</th>\n",
       "      <td>22.2</td>\n",
       "      <td>25.461874</td>\n",
       "    </tr>\n",
       "    <tr>\n",
       "      <th>4</th>\n",
       "      <td>20.4</td>\n",
       "      <td>26.937041</td>\n",
       "    </tr>\n",
       "    <tr>\n",
       "      <th>...</th>\n",
       "      <td>...</td>\n",
       "      <td>...</td>\n",
       "    </tr>\n",
       "    <tr>\n",
       "      <th>69</th>\n",
       "      <td>18.9</td>\n",
       "      <td>20.216833</td>\n",
       "    </tr>\n",
       "    <tr>\n",
       "      <th>70</th>\n",
       "      <td>22.8</td>\n",
       "      <td>27.674625</td>\n",
       "    </tr>\n",
       "    <tr>\n",
       "      <th>71</th>\n",
       "      <td>16.1</td>\n",
       "      <td>21.446140</td>\n",
       "    </tr>\n",
       "    <tr>\n",
       "      <th>72</th>\n",
       "      <td>25.1</td>\n",
       "      <td>24.970151</td>\n",
       "    </tr>\n",
       "    <tr>\n",
       "      <th>73</th>\n",
       "      <td>12.2</td>\n",
       "      <td>14.070302</td>\n",
       "    </tr>\n",
       "  </tbody>\n",
       "</table>\n",
       "<p>74 rows × 2 columns</p>\n",
       "</div>"
      ],
      "text/plain": [
       "    Actual  Predicted\n",
       "0     25.2  23.413030\n",
       "1     11.5  13.086857\n",
       "2     21.1  27.264856\n",
       "3     22.2  25.461874\n",
       "4     20.4  26.937041\n",
       "..     ...        ...\n",
       "69    18.9  20.216833\n",
       "70    22.8  27.674625\n",
       "71    16.1  21.446140\n",
       "72    25.1  24.970151\n",
       "73    12.2  14.070302\n",
       "\n",
       "[74 rows x 2 columns]"
      ]
     },
     "execution_count": 38,
     "metadata": {},
     "output_type": "execute_result"
    }
   ],
   "source": [
    "dr=pd.DataFrame({'Actual':y_test.flatten(),'Predicted':y_pred.flatten()})\n",
    "dr"
   ]
  },
  {
   "cell_type": "code",
   "execution_count": 41,
   "id": "23eb839a-f5cb-453f-8b2d-62b86f47b661",
   "metadata": {},
   "outputs": [
    {
     "data": {
      "image/png": "[encoded data removed]",
      "text/plain": [
       "<Figure size 1600x1000 with 1 Axes>"
      ]
     },
     "metadata": {},
     "output_type": "display_data"
    }
   ],
   "source": [
    "dr1=dr.head(25)\n",
    "dr1.plot(kind='bar',figsize=(16,10))\n",
    "plt.grid(which='major',linestyle='-',linewidth='0.5',color='green')\n",
    "plt.grid(which='minor',linestyle=':',linewidth='0.5',color='black')\n",
    "plt.show()"
   ]
  },
  {
   "cell_type": "code",
   "execution_count": 42,
   "id": "bf109c56-31e2-4053-a337-2bcac8e89dd3",
   "metadata": {},
   "outputs": [
    {
     "data": {
      "text/plain": [
       "<function matplotlib.pyplot.show(close=None, block=None)>"
      ]
     },
     "execution_count": 42,
     "metadata": {},
     "output_type": "execute_result"
    },
    {
     "data": {
      "image/png": "[encoded data removed]",
      "text/plain": [
       "<Figure size 640x480 with 1 Axes>"
      ]
     },
     "metadata": {},
     "output_type": "display_data"
    }
   ],
   "source": [
    "plt.scatter(X_test,y_test,color='gray')\n",
    "plt.plot(X_test,y_pred,color='red',linewidth=2)\n",
    "plt.show"
   ]
  },
  {
   "cell_type": "markdown",
   "id": "359923e4-7809-4591-8ee5-9c67de9b1504",
   "metadata": {},
   "source": [
    "Writting About the Accuracy score"
   ]
  },
  {
   "cell_type": "code",
   "execution_count": 44,
   "id": "bf02486d-361c-4d8f-86b1-079a2f890652",
   "metadata": {},
   "outputs": [
    {
     "name": "stdout",
     "output_type": "stream",
     "text": [
      "Mean Absolute Error:  3.5094353112899594\n",
      "Mean Squared Error:  17.011877668640622\n",
      "Root Mean Squared Error:  4.124545753006096\n"
     ]
    }
   ],
   "source": [
    "print('Mean Absolute Error: ',metrics.mean_absolute_error(y_test,y_pred))\n",
    "print('Mean Squared Error: ',metrics.mean_squared_error(y_test,y_pred))\n",
    "print('Root Mean Squared Error: ',np.sqrt(metrics.mean_squared_error(y_test,y_pred)))"
   ]
  },
  {
   "cell_type": "markdown",
   "id": "ee7fd810-d64c-4fff-a1c5-04edcb657503",
   "metadata": {},
   "source": [
    "<h1>Weather Prediction System</h1>"
   ]
  },
  {
   "cell_type": "code",
   "execution_count": 27,
   "id": "c05ec23e-dabc-4699-8530-f2328b7ce91b",
   "metadata": {},
   "outputs": [
    {
     "name": "stdin",
     "output_type": "stream",
     "text": [
      "What is the minimum temperature 14\n"
     ]
    },
    {
     "name": "stdout",
     "output_type": "stream",
     "text": [
      "Maximum Temperature is: [26.03554981]\n"
     ]
    }
   ],
   "source": [
    "min = int(input('What is the minimum temperature'))\n",
    "min_arr = np.array(min).reshape(1, -1)\n",
    "max = linearReg.predict(min_arr)\n",
    "print('Maximum Temperature is:',max.flatten())"
   ]
  },
  {
   "cell_type": "markdown",
   "id": "8da4402a-47c0-4ac0-85c1-f5c5964b11d6",
   "metadata": {},
   "source": [
    "<h1>About Me</h1>\n",
    "<div style=\"font-family: Arial, sans-serif; line-height: 1.6; font-size: 16px;\">\n",
    "  <p>\n",
    "    My name is <strong>Godknows Nyandoro</strong>, a Computer Science student at the University of Zimbabwe. \n",
    "    Below are my contact details and professional profiles:\n",
    "  </p>\n",
    "  <ul>\n",
    "    <li>WhatsApp: <a href=\"https://wa.me/263779319824\" target=\"_blank\">+263 779 319 824</a></li>\n",
    "    <li>Email: <a href=\"mailto:godknowsnyandoro0410@gmail.com\">godknowsnyandoro0410@gmail.com</a></li>\n",
    "    <li>GitHub: <a href=\"https://github.com/Godknows-Jv\" target=\"_blank\">https://github.com/Godknows-Jv</a></li>\n",
    "    <li>LinkedIn: <a href=\"https://www.linkedin.com/in/godknows-nyandoro-65a7a5320/\" target=\"_blank\">https://www.linkedin.com/in/godknows-nyandoro-65a7a5320/</a></li>\n",
    "      <li>Portfolio Website: <a href=\"https://godknows-jv.github.io/Portfolio/\" target=\"_blank\">https://godknows-jv.github.io/Portfolio/</a></li>\n",
    "  </ul>\n",
    "  <p>\n",
    "    Feel free to reach out or connect with me!\n",
    "  </p>\n",
    "</div>"
   ]
  },
  {
   "cell_type": "code",
   "execution_count": null,
   "id": "e2e7f4f9-7a2d-4b21-a8d1-6faa8d0609f3",
   "metadata": {},
   "outputs": [],
   "source": []
  }
 ],
 "metadata": {
  "kernelspec": {
   "display_name": "Python 3 (ipykernel)",
   "language": "python",
   "name": "python3"
  },
  "language_info": {
   "codemirror_mode": {
    "name": "ipython",
    "version": 3
   },
   "file_extension": ".py",
   "mimetype": "text/x-python",
   "name": "python",
   "nbconvert_exporter": "python",
   "pygments_lexer": "ipython3",
   "version": "3.12.6"
  }
 },
 "nbformat": 4,
 "nbformat_minor": 5
}
